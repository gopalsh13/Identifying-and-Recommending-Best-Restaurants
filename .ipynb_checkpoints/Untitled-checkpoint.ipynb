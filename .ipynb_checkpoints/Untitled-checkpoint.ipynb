{
 "cells": [
  {
   "cell_type": "code",
   "execution_count": 10,
   "metadata": {},
   "outputs": [
    {
     "name": "stdout",
     "output_type": "stream",
     "text": [
      "Collecting https://github.com/pandas-profiling/pandas-profiling/archive/master.zipNote: you may need to restart the kernel to use updated packages.\n",
      "  Downloading https://github.com/pandas-profiling/pandas-profiling/archive/master.zip (25.9 MB)\n",
      "Collecting joblib~=1.1.0\n",
      "  Downloading joblib-1.1.0-py2.py3-none-any.whl (306 kB)\n",
      "Requirement already satisfied: scipy>=1.4.1 in c:\\users\\hp\\anaconda3\\lib\\site-packages (from pandas-profiling==3.1.1) (1.5.0)\n",
      "Requirement already satisfied: pandas!=1.0.0,!=1.0.1,!=1.0.2,!=1.1.0,>=0.25.3 in c:\\users\\hp\\anaconda3\\lib\\site-packages (from pandas-profiling==3.1.1) (1.0.5)\n",
      "Requirement already satisfied: matplotlib>=3.2.0 in c:\\users\\hp\\anaconda3\\lib\\site-packages (from pandas-profiling==3.1.1) (3.2.2)\n",
      "Requirement already satisfied: pydantic>=1.8.1 in c:\\users\\hp\\anaconda3\\lib\\site-packages (from pandas-profiling==3.1.1) (1.8.2)\n",
      "Requirement already satisfied: PyYAML>=5.0.0 in c:\\users\\hp\\anaconda3\\lib\\site-packages (from pandas-profiling==3.1.1) (5.3.1)\n",
      "\n"
     ]
    },
    {
     "name": "stderr",
     "output_type": "stream",
     "text": [
      "WARNING: Retrying (Retry(total=4, connect=None, read=None, redirect=None, status=None)) after connection broken by 'ReadTimeoutError(\"HTTPSConnectionPool(host='pypi.org', port=443): Read timed out. (read timeout=15)\")': /simple/joblib/\n",
      "ERROR: phik 0.12.0 has requirement scipy>=1.5.2, but you'll have scipy 1.5.0 which is incompatible.\n"
     ]
    },
    {
     "name": "stdout",
     "output_type": "stream",
     "text": [
      "Requirement already satisfied: jinja2>=2.11.1 in c:\\users\\hp\\anaconda3\\lib\\site-packages (from pandas-profiling==3.1.1) (2.11.2)\n",
      "Requirement already satisfied: markupsafe~=2.0.1 in c:\\users\\hp\\anaconda3\\lib\\site-packages (from pandas-profiling==3.1.1) (2.0.1)\n",
      "Requirement already satisfied: visions[type_image_path]==0.7.4 in c:\\users\\hp\\anaconda3\\lib\\site-packages (from pandas-profiling==3.1.1) (0.7.4)\n",
      "Requirement already satisfied: numpy>=1.16.0 in c:\\users\\hp\\anaconda3\\lib\\site-packages (from pandas-profiling==3.1.1) (1.18.5)\n",
      "Processing c:\\users\\hp\\appdata\\local\\pip\\cache\\wheels\\23\\14\\6e\\4be5bfeeb027f4939a01764b48edd5996acf574b0913fe5243\\htmlmin-0.1.12-py3-none-any.whl\n",
      "Requirement already satisfied: missingno>=0.4.2 in c:\\users\\hp\\anaconda3\\lib\\site-packages (from pandas-profiling==3.1.1) (0.5.0)\n",
      "Requirement already satisfied: phik>=0.11.1 in c:\\users\\hp\\anaconda3\\lib\\site-packages (from pandas-profiling==3.1.1) (0.12.0)\n",
      "Collecting tangled-up-in-unicode==0.2.0\n",
      "  Downloading tangled_up_in_unicode-0.2.0-py3-none-any.whl (4.7 MB)\n",
      "Requirement already satisfied: requests>=2.24.0 in c:\\users\\hp\\anaconda3\\lib\\site-packages (from pandas-profiling==3.1.1) (2.24.0)\n",
      "Collecting tqdm>=4.48.2\n",
      "  Using cached tqdm-4.62.3-py2.py3-none-any.whl (76 kB)\n",
      "Requirement already satisfied: seaborn>=0.10.1 in c:\\users\\hp\\anaconda3\\lib\\site-packages (from pandas-profiling==3.1.1) (0.10.1)\n",
      "Requirement already satisfied: multimethod>=1.4 in c:\\users\\hp\\anaconda3\\lib\\site-packages (from pandas-profiling==3.1.1) (1.6)\n",
      "Requirement already satisfied: python-dateutil>=2.6.1 in c:\\users\\hp\\anaconda3\\lib\\site-packages (from pandas!=1.0.0,!=1.0.1,!=1.0.2,!=1.1.0,>=0.25.3->pandas-profiling==3.1.1) (2.8.1)\n",
      "Requirement already satisfied: pytz>=2017.2 in c:\\users\\hp\\anaconda3\\lib\\site-packages (from pandas!=1.0.0,!=1.0.1,!=1.0.2,!=1.1.0,>=0.25.3->pandas-profiling==3.1.1) (2020.1)\n",
      "Requirement already satisfied: kiwisolver>=1.0.1 in c:\\users\\hp\\anaconda3\\lib\\site-packages (from matplotlib>=3.2.0->pandas-profiling==3.1.1) (1.2.0)\n",
      "Requirement already satisfied: cycler>=0.10 in c:\\users\\hp\\anaconda3\\lib\\site-packages (from matplotlib>=3.2.0->pandas-profiling==3.1.1) (0.10.0)\n",
      "Requirement already satisfied: pyparsing!=2.0.4,!=2.1.2,!=2.1.6,>=2.0.1 in c:\\users\\hp\\anaconda3\\lib\\site-packages (from matplotlib>=3.2.0->pandas-profiling==3.1.1) (2.4.7)\n",
      "Requirement already satisfied: typing-extensions>=3.7.4.3 in c:\\users\\hp\\anaconda3\\lib\\site-packages (from pydantic>=1.8.1->pandas-profiling==3.1.1) (4.0.1)\n",
      "Requirement already satisfied: networkx>=2.4 in c:\\users\\hp\\anaconda3\\lib\\site-packages (from visions[type_image_path]==0.7.4->pandas-profiling==3.1.1) (2.4)\n",
      "Requirement already satisfied: attrs>=19.3.0 in c:\\users\\hp\\anaconda3\\lib\\site-packages (from visions[type_image_path]==0.7.4->pandas-profiling==3.1.1) (19.3.0)\n",
      "Requirement already satisfied: Pillow; extra == \"type_image_path\" in c:\\users\\hp\\anaconda3\\lib\\site-packages (from visions[type_image_path]==0.7.4->pandas-profiling==3.1.1) (7.2.0)\n",
      "Requirement already satisfied: imagehash; extra == \"type_image_path\" in c:\\users\\hp\\anaconda3\\lib\\site-packages (from visions[type_image_path]==0.7.4->pandas-profiling==3.1.1) (4.2.1)\n",
      "Requirement already satisfied: certifi>=2017.4.17 in c:\\users\\hp\\anaconda3\\lib\\site-packages (from requests>=2.24.0->pandas-profiling==3.1.1) (2020.6.20)\n",
      "Requirement already satisfied: idna<3,>=2.5 in c:\\users\\hp\\anaconda3\\lib\\site-packages (from requests>=2.24.0->pandas-profiling==3.1.1) (2.10)\n",
      "Requirement already satisfied: urllib3!=1.25.0,!=1.25.1,<1.26,>=1.21.1 in c:\\users\\hp\\anaconda3\\lib\\site-packages (from requests>=2.24.0->pandas-profiling==3.1.1) (1.25.9)\n",
      "Requirement already satisfied: chardet<4,>=3.0.2 in c:\\users\\hp\\anaconda3\\lib\\site-packages (from requests>=2.24.0->pandas-profiling==3.1.1) (3.0.4)\n",
      "Requirement already satisfied: colorama; platform_system == \"Windows\" in c:\\users\\hp\\anaconda3\\lib\\site-packages (from tqdm>=4.48.2->pandas-profiling==3.1.1) (0.4.3)\n",
      "Requirement already satisfied: six>=1.5 in c:\\users\\hp\\anaconda3\\lib\\site-packages (from python-dateutil>=2.6.1->pandas!=1.0.0,!=1.0.1,!=1.0.2,!=1.1.0,>=0.25.3->pandas-profiling==3.1.1) (1.15.0)\n",
      "Requirement already satisfied: decorator>=4.3.0 in c:\\users\\hp\\anaconda3\\lib\\site-packages (from networkx>=2.4->visions[type_image_path]==0.7.4->pandas-profiling==3.1.1) (4.4.2)\n",
      "Requirement already satisfied: PyWavelets in c:\\users\\hp\\anaconda3\\lib\\site-packages (from imagehash; extra == \"type_image_path\"->visions[type_image_path]==0.7.4->pandas-profiling==3.1.1) (1.1.1)\n",
      "Building wheels for collected packages: pandas-profiling\n",
      "  Building wheel for pandas-profiling (setup.py): started\n",
      "  Building wheel for pandas-profiling (setup.py): finished with status 'done'\n",
      "  Created wheel for pandas-profiling: filename=pandas_profiling-3.1.1-py2.py3-none-any.whl size=261278 sha256=630059cf0f9a54f2b4839ead753631346c13dbf9c6ca16d97044c9e379a32f01\n",
      "  Stored in directory: C:\\Users\\HP\\AppData\\Local\\Temp\\pip-ephem-wheel-cache-l47xne2i\\wheels\\64\\b6\\85\\dfc808b23666a5910371784e349d28818006ff63ed9cfeca59\n",
      "Successfully built pandas-profiling\n",
      "Installing collected packages: joblib, htmlmin, tangled-up-in-unicode, tqdm, pandas-profiling\n",
      "  Attempting uninstall: joblib\n",
      "    Found existing installation: joblib 1.0.1\n",
      "    Uninstalling joblib-1.0.1:\n",
      "      Successfully uninstalled joblib-1.0.1\n",
      "  Attempting uninstall: tangled-up-in-unicode\n",
      "    Found existing installation: tangled-up-in-unicode 0.1.0\n",
      "    Uninstalling tangled-up-in-unicode-0.1.0:\n",
      "      Successfully uninstalled tangled-up-in-unicode-0.1.0\n",
      "  Attempting uninstall: tqdm\n",
      "    Found existing installation: tqdm 4.47.0\n",
      "    Uninstalling tqdm-4.47.0:\n",
      "      Successfully uninstalled tqdm-4.47.0\n",
      "Successfully installed htmlmin-0.1.12 joblib-1.1.0 pandas-profiling-3.1.1 tangled-up-in-unicode-0.2.0 tqdm-4.62.3\n"
     ]
    }
   ],
   "source": [
    "pip install https://github.com/pandas-profiling/pandas-profiling/archive/master.zip"
   ]
  },
  {
   "cell_type": "code",
   "execution_count": 11,
   "metadata": {},
   "outputs": [],
   "source": [
    "import pandas_profiling as pp"
   ]
  },
  {
   "cell_type": "code",
   "execution_count": null,
   "metadata": {},
   "outputs": [],
   "source": []
  }
 ],
 "metadata": {
  "kernelspec": {
   "display_name": "Python 3",
   "language": "python",
   "name": "python3"
  },
  "language_info": {
   "codemirror_mode": {
    "name": "ipython",
    "version": 3
   },
   "file_extension": ".py",
   "mimetype": "text/x-python",
   "name": "python",
   "nbconvert_exporter": "python",
   "pygments_lexer": "ipython3",
   "version": "3.8.3"
  }
 },
 "nbformat": 4,
 "nbformat_minor": 4
}
