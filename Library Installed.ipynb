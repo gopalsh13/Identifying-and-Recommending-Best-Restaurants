{
 "cells": [
  {
   "cell_type": "code",
   "execution_count": 3,
   "metadata": {},
   "outputs": [
    {
     "name": "stdout",
     "output_type": "stream",
     "text": [
      "Collecting https://github.com/pandas-profiling/pandas-profiling/archive/master.zip\n",
      "  Using cached https://github.com/pandas-profiling/pandas-profiling/archive/master.zip\n",
      "Requirement already satisfied: joblib~=1.1.0 in c:\\users\\gopal\\anaconda3\\lib\\site-packages (from pandas-profiling==3.1.1) (1.1.0)\n",
      "Requirement already satisfied: scipy>=1.4.1 in c:\\users\\gopal\\anaconda3\\lib\\site-packages (from pandas-profiling==3.1.1) (1.7.1)\n",
      "Requirement already satisfied: pandas!=1.0.0,!=1.0.1,!=1.0.2,!=1.1.0,>=0.25.3 in c:\\users\\gopal\\anaconda3\\lib\\site-packages (from pandas-profiling==3.1.1) (1.3.4)\n",
      "Requirement already satisfied: matplotlib>=3.2.0 in c:\\users\\gopal\\anaconda3\\lib\\site-packages (from pandas-profiling==3.1.1) (3.4.3)\n",
      "Collecting pydantic>=1.8.1\n",
      "  Using cached pydantic-1.9.0-cp39-cp39-win_amd64.whl (2.1 MB)\n",
      "Requirement already satisfied: PyYAML>=5.0.0 in c:\\users\\gopal\\anaconda3\\lib\\site-packages (from pandas-profiling==3.1.1) (6.0)\n",
      "Requirement already satisfied: jinja2>=2.11.1 in c:\\users\\gopal\\anaconda3\\lib\\site-packages (from pandas-profiling==3.1.1) (2.11.3)\n",
      "Requirement already satisfied: markupsafe~=2.0.1 in c:\\users\\gopal\\anaconda3\\lib\\site-packages (from pandas-profiling==3.1.1) (2.0.1)\n",
      "Requirement already satisfied: visions[type_image_path]==0.7.4 in c:\\users\\gopal\\anaconda3\\lib\\site-packages (from pandas-profiling==3.1.1) (0.7.4)\n",
      "Requirement already satisfied: numpy>=1.16.0 in c:\\users\\gopal\\anaconda3\\lib\\site-packages (from pandas-profiling==3.1.1) (1.20.3)\n",
      "Collecting htmlmin>=0.1.12\n",
      "  Using cached htmlmin-0.1.12-py3-none-any.whl\n",
      "Collecting missingno>=0.4.2\n",
      "  Using cached missingno-0.5.0-py3-none-any.whl (8.8 kB)\n",
      "Collecting phik>=0.11.1\n",
      "  Using cached phik-0.12.0-cp39-cp39-win_amd64.whl (659 kB)\n",
      "Requirement already satisfied: tangled-up-in-unicode==0.2.0 in c:\\users\\gopal\\anaconda3\\lib\\site-packages (from pandas-profiling==3.1.1) (0.2.0)\n",
      "Requirement already satisfied: requests>=2.24.0 in c:\\users\\gopal\\anaconda3\\lib\\site-packages (from pandas-profiling==3.1.1) (2.26.0)\n",
      "Requirement already satisfied: tqdm>=4.48.2 in c:\\users\\gopal\\anaconda3\\lib\\site-packages (from pandas-profiling==3.1.1) (4.62.3)\n",
      "Requirement already satisfied: seaborn>=0.10.1 in c:\\users\\gopal\\anaconda3\\lib\\site-packages (from pandas-profiling==3.1.1) (0.11.2)\n",
      "Requirement already satisfied: multimethod>=1.4 in c:\\users\\gopal\\anaconda3\\lib\\site-packages (from pandas-profiling==3.1.1) (1.7)\n",
      "Requirement already satisfied: attrs>=19.3.0 in c:\\users\\gopal\\anaconda3\\lib\\site-packages (from visions[type_image_path]==0.7.4->pandas-profiling==3.1.1) (21.2.0)\n",
      "Requirement already satisfied: networkx>=2.4 in c:\\users\\gopal\\anaconda3\\lib\\site-packages (from visions[type_image_path]==0.7.4->pandas-profiling==3.1.1) (2.6.3)\n",
      "Requirement already satisfied: Pillow in c:\\users\\gopal\\anaconda3\\lib\\site-packages (from visions[type_image_path]==0.7.4->pandas-profiling==3.1.1) (8.4.0)\n",
      "Collecting imagehash\n",
      "  Using cached ImageHash-4.2.1-py2.py3-none-any.whl\n",
      "Requirement already satisfied: pyparsing>=2.2.1 in c:\\users\\gopal\\anaconda3\\lib\\site-packages (from matplotlib>=3.2.0->pandas-profiling==3.1.1) (3.0.4)\n",
      "Requirement already satisfied: kiwisolver>=1.0.1 in c:\\users\\gopal\\anaconda3\\lib\\site-packages (from matplotlib>=3.2.0->pandas-profiling==3.1.1) (1.3.1)\n",
      "Requirement already satisfied: python-dateutil>=2.7 in c:\\users\\gopal\\anaconda3\\lib\\site-packages (from matplotlib>=3.2.0->pandas-profiling==3.1.1) (2.8.2)\n",
      "Requirement already satisfied: cycler>=0.10 in c:\\users\\gopal\\anaconda3\\lib\\site-packages (from matplotlib>=3.2.0->pandas-profiling==3.1.1) (0.10.0)\n",
      "Requirement already satisfied: six in c:\\users\\gopal\\anaconda3\\lib\\site-packages (from cycler>=0.10->matplotlib>=3.2.0->pandas-profiling==3.1.1) (1.16.0)\n",
      "Requirement already satisfied: pytz>=2017.3 in c:\\users\\gopal\\anaconda3\\lib\\site-packages (from pandas!=1.0.0,!=1.0.1,!=1.0.2,!=1.1.0,>=0.25.3->pandas-profiling==3.1.1) (2021.3)\n",
      "Requirement already satisfied: typing-extensions>=3.7.4.3 in c:\\users\\gopal\\anaconda3\\lib\\site-packages (from pydantic>=1.8.1->pandas-profiling==3.1.1) (3.10.0.2)\n",
      "Requirement already satisfied: charset-normalizer~=2.0.0 in c:\\users\\gopal\\anaconda3\\lib\\site-packages (from requests>=2.24.0->pandas-profiling==3.1.1) (2.0.4)\n",
      "Requirement already satisfied: idna<4,>=2.5 in c:\\users\\gopal\\anaconda3\\lib\\site-packages (from requests>=2.24.0->pandas-profiling==3.1.1) (3.2)\n",
      "Requirement already satisfied: certifi>=2017.4.17 in c:\\users\\gopal\\anaconda3\\lib\\site-packages (from requests>=2.24.0->pandas-profiling==3.1.1) (2021.10.8)\n",
      "Requirement already satisfied: urllib3<1.27,>=1.21.1 in c:\\users\\gopal\\anaconda3\\lib\\site-packages (from requests>=2.24.0->pandas-profiling==3.1.1) (1.26.7)\n",
      "Requirement already satisfied: colorama in c:\\users\\gopal\\anaconda3\\lib\\site-packages (from tqdm>=4.48.2->pandas-profiling==3.1.1) (0.4.4)\n",
      "Requirement already satisfied: PyWavelets in c:\\users\\gopal\\anaconda3\\lib\\site-packages (from imagehash->visions[type_image_path]==0.7.4->pandas-profiling==3.1.1) (1.1.1)\n",
      "Building wheels for collected packages: pandas-profiling\n",
      "  Building wheel for pandas-profiling (setup.py): started\n",
      "  Building wheel for pandas-profiling (setup.py): finished with status 'done'\n",
      "  Created wheel for pandas-profiling: filename=pandas_profiling-3.1.1-py2.py3-none-any.whl size=261291 sha256=a04353cbc6e9376d6549d48392eca9bd48bfc59aee606477122a61545de49151\n",
      "  Stored in directory: C:\\Users\\gopal\\AppData\\Local\\Temp\\pip-ephem-wheel-cache-wk38jm5e\\wheels\\43\\c8\\f4\\c0ebc32d7f20fe89d0e92d90eaeef5f0c0594a89b6bc16b352\n",
      "Successfully built pandas-profiling\n",
      "Installing collected packages: imagehash, pydantic, phik, missingno, htmlmin, pandas-profiling\n",
      "Successfully installed htmlmin-0.1.12 imagehash-4.2.1 missingno-0.5.0 pandas-profiling-3.1.1 phik-0.12.0 pydantic-1.9.0\n",
      "Note: you may need to restart the kernel to use updated packages.\n"
     ]
    }
   ],
   "source": [
    "pip install https://github.com/pandas-profiling/pandas-profiling/archive/master.zip"
   ]
  },
  {
   "cell_type": "code",
   "execution_count": 4,
   "metadata": {},
   "outputs": [],
   "source": [
    "import pandas_profiling as pp"
   ]
  },
  {
   "cell_type": "code",
   "execution_count": 5,
   "metadata": {},
   "outputs": [
    {
     "name": "stdout",
     "output_type": "stream",
     "text": [
      "Collecting plot\n",
      "  Downloading plot-0.6.5-py2.py3-none-any.whl (135 kB)\n",
      "Collecting typing\n",
      "  Downloading typing-3.7.4.3.tar.gz (78 kB)\n",
      "Requirement already satisfied: pyyaml in c:\\users\\gopal\\anaconda3\\lib\\site-packages (from plot) (6.0)\n",
      "Requirement already satisfied: scipy in c:\\users\\gopal\\anaconda3\\lib\\site-packages (from plot) (1.7.1)\n",
      "Requirement already satisfied: numpy in c:\\users\\gopal\\anaconda3\\lib\\site-packages (from plot) (1.20.3)\n",
      "Requirement already satisfied: matplotlib in c:\\users\\gopal\\anaconda3\\lib\\site-packages (from plot) (3.4.3)\n",
      "Requirement already satisfied: cycler>=0.10 in c:\\users\\gopal\\anaconda3\\lib\\site-packages (from matplotlib->plot) (0.10.0)\n",
      "Requirement already satisfied: python-dateutil>=2.7 in c:\\users\\gopal\\anaconda3\\lib\\site-packages (from matplotlib->plot) (2.8.2)\n",
      "Requirement already satisfied: pyparsing>=2.2.1 in c:\\users\\gopal\\anaconda3\\lib\\site-packages (from matplotlib->plot) (3.0.4)\n",
      "Requirement already satisfied: kiwisolver>=1.0.1 in c:\\users\\gopal\\anaconda3\\lib\\site-packages (from matplotlib->plot) (1.3.1)\n",
      "Requirement already satisfied: pillow>=6.2.0 in c:\\users\\gopal\\anaconda3\\lib\\site-packages (from matplotlib->plot) (8.4.0)\n",
      "Requirement already satisfied: six in c:\\users\\gopal\\anaconda3\\lib\\site-packages (from cycler>=0.10->matplotlib->plot) (1.16.0)\n",
      "Building wheels for collected packages: typing\n",
      "  Building wheel for typing (setup.py): started\n",
      "  Building wheel for typing (setup.py): finished with status 'done'\n",
      "  Created wheel for typing: filename=typing-3.7.4.3-py3-none-any.whl size=26324 sha256=ec9d59829a06f218c64b6a36596ffc966b65b0eeb4054c0a766fc5b7850678ab\n",
      "  Stored in directory: c:\\users\\gopal\\appdata\\local\\pip\\cache\\wheels\\fa\\17\\1f\\332799f975d1b2d7f9b3f33bbccf65031e794717d24432caee\n",
      "Successfully built typing\n",
      "Installing collected packages: typing, plot\n",
      "Successfully installed plot-0.6.5 typing-3.7.4.3\n",
      "Collecting plotly\n",
      "  Downloading plotly-5.5.0-py2.py3-none-any.whl (26.5 MB)\n",
      "Collecting tenacity>=6.2.0\n",
      "  Downloading tenacity-8.0.1-py3-none-any.whl (24 kB)\n",
      "Requirement already satisfied: six in c:\\users\\gopal\\anaconda3\\lib\\site-packages (from plotly) (1.16.0)\n",
      "Installing collected packages: tenacity, plotly\n",
      "Successfully installed plotly-5.5.0 tenacity-8.0.1\n"
     ]
    }
   ],
   "source": [
    "!pip install plot\n",
    "!pip install plotly"
   ]
  },
  {
   "cell_type": "code",
   "execution_count": 6,
   "metadata": {},
   "outputs": [
    {
     "name": "stdout",
     "output_type": "stream",
     "text": [
      "2.8.3\n"
     ]
    }
   ],
   "source": [
    "from plotly.offline import iplot\n",
    "from plotly.offline import init_notebook_mode\n",
    "from plotly.offline import get_plotlyjs_version\n",
    "from plotly.offline import download_plotlyjs\n",
    "print(get_plotlyjs_version())\n",
    "import plotly.graph_objects\n",
    "from plotly.graph_objs import *\n",
    "import plotly.graph_objs as go"
   ]
  },
  {
   "cell_type": "code",
   "execution_count": null,
   "metadata": {},
   "outputs": [],
   "source": []
  }
 ],
 "metadata": {
  "kernelspec": {
   "display_name": "Python 3 (ipykernel)",
   "language": "python",
   "name": "python3"
  },
  "language_info": {
   "codemirror_mode": {
    "name": "ipython",
    "version": 3
   },
   "file_extension": ".py",
   "mimetype": "text/x-python",
   "name": "python",
   "nbconvert_exporter": "python",
   "pygments_lexer": "ipython3",
   "version": "3.9.7"
  }
 },
 "nbformat": 4,
 "nbformat_minor": 4
}
